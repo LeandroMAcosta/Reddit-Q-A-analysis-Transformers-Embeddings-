{
  "nbformat": 4,
  "nbformat_minor": 0,
  "metadata": {
    "colab": {
      "name": "Reddit_Q&A_analysis using Transformers_Embeddings.ipynb",
      "provenance": [],
      "collapsed_sections": []
    },
    "kernelspec": {
      "display_name": "Python 3 (ipykernel)",
      "language": "python",
      "name": "python3"
    },
    "language_info": {
      "codemirror_mode": {
        "name": "ipython",
        "version": 3
      },
      "file_extension": ".py",
      "mimetype": "text/x-python",
      "name": "python",
      "nbconvert_exporter": "python",
      "pygments_lexer": "ipython3",
      "version": "3.9.2"
    },
    "widgets": {
      "application/vnd.jupyter.widget-state+json": {
        "0518f9a4ad584c568c8c0e582bc6714c": {
          "model_module": "@jupyter-widgets/controls",
          "model_name": "HBoxModel",
          "model_module_version": "1.5.0",
          "state": {
            "_view_name": "HBoxView",
            "_dom_classes": [],
            "_model_name": "HBoxModel",
            "_view_module": "@jupyter-widgets/controls",
            "_model_module_version": "1.5.0",
            "_view_count": null,
            "_view_module_version": "1.5.0",
            "box_style": "",
            "layout": "IPY_MODEL_3ed362226b6c48589ce166f699e013f2",
            "_model_module": "@jupyter-widgets/controls",
            "children": [
              "IPY_MODEL_3a3d8be9ff2f4fb48a4a2051e2b72140",
              "IPY_MODEL_8457302d479145aaa6b99f6072b4fcdc",
              "IPY_MODEL_e4b0231eaf7e4c1c893a03a8d01b8b10"
            ]
          }
        },
        "3ed362226b6c48589ce166f699e013f2": {
          "model_module": "@jupyter-widgets/base",
          "model_name": "LayoutModel",
          "model_module_version": "1.2.0",
          "state": {
            "_view_name": "LayoutView",
            "grid_template_rows": null,
            "right": null,
            "justify_content": null,
            "_view_module": "@jupyter-widgets/base",
            "overflow": null,
            "_model_module_version": "1.2.0",
            "_view_count": null,
            "flex_flow": null,
            "width": null,
            "min_width": null,
            "border": null,
            "align_items": null,
            "bottom": null,
            "_model_module": "@jupyter-widgets/base",
            "top": null,
            "grid_column": null,
            "overflow_y": null,
            "overflow_x": null,
            "grid_auto_flow": null,
            "grid_area": null,
            "grid_template_columns": null,
            "flex": null,
            "_model_name": "LayoutModel",
            "justify_items": null,
            "grid_row": null,
            "max_height": null,
            "align_content": null,
            "visibility": null,
            "align_self": null,
            "height": null,
            "min_height": null,
            "padding": null,
            "grid_auto_rows": null,
            "grid_gap": null,
            "max_width": null,
            "order": null,
            "_view_module_version": "1.2.0",
            "grid_template_areas": null,
            "object_position": null,
            "object_fit": null,
            "grid_auto_columns": null,
            "margin": null,
            "display": null,
            "left": null
          }
        },
        "3a3d8be9ff2f4fb48a4a2051e2b72140": {
          "model_module": "@jupyter-widgets/controls",
          "model_name": "HTMLModel",
          "model_module_version": "1.5.0",
          "state": {
            "_view_name": "HTMLView",
            "style": "IPY_MODEL_16a7cc1914724f6ea49f558f1ae53cb0",
            "_dom_classes": [],
            "description": "",
            "_model_name": "HTMLModel",
            "placeholder": "​",
            "_view_module": "@jupyter-widgets/controls",
            "_model_module_version": "1.5.0",
            "value": "100%",
            "_view_count": null,
            "_view_module_version": "1.5.0",
            "description_tooltip": null,
            "_model_module": "@jupyter-widgets/controls",
            "layout": "IPY_MODEL_fe6799fc6c3446168ce4996414f9efb9"
          }
        },
        "8457302d479145aaa6b99f6072b4fcdc": {
          "model_module": "@jupyter-widgets/controls",
          "model_name": "FloatProgressModel",
          "model_module_version": "1.5.0",
          "state": {
            "_view_name": "ProgressView",
            "style": "IPY_MODEL_0ae15b1daa87437e91f0ee73866ce31d",
            "_dom_classes": [],
            "description": "",
            "_model_name": "FloatProgressModel",
            "bar_style": "success",
            "max": 1545,
            "_view_module": "@jupyter-widgets/controls",
            "_model_module_version": "1.5.0",
            "value": 1545,
            "_view_count": null,
            "_view_module_version": "1.5.0",
            "orientation": "horizontal",
            "min": 0,
            "description_tooltip": null,
            "_model_module": "@jupyter-widgets/controls",
            "layout": "IPY_MODEL_71d7a1663e19439ca0e1fad4e5e02379"
          }
        },
        "e4b0231eaf7e4c1c893a03a8d01b8b10": {
          "model_module": "@jupyter-widgets/controls",
          "model_name": "HTMLModel",
          "model_module_version": "1.5.0",
          "state": {
            "_view_name": "HTMLView",
            "style": "IPY_MODEL_03bcacc92977436ea773a24e14fb81cc",
            "_dom_classes": [],
            "description": "",
            "_model_name": "HTMLModel",
            "placeholder": "​",
            "_view_module": "@jupyter-widgets/controls",
            "_model_module_version": "1.5.0",
            "value": " 1545/1545 [16:33&lt;00:00,  1.42it/s]",
            "_view_count": null,
            "_view_module_version": "1.5.0",
            "description_tooltip": null,
            "_model_module": "@jupyter-widgets/controls",
            "layout": "IPY_MODEL_90c87fae349642a69cb5902174f47770"
          }
        },
        "16a7cc1914724f6ea49f558f1ae53cb0": {
          "model_module": "@jupyter-widgets/controls",
          "model_name": "DescriptionStyleModel",
          "model_module_version": "1.5.0",
          "state": {
            "_view_name": "StyleView",
            "_model_name": "DescriptionStyleModel",
            "description_width": "",
            "_view_module": "@jupyter-widgets/base",
            "_model_module_version": "1.5.0",
            "_view_count": null,
            "_view_module_version": "1.2.0",
            "_model_module": "@jupyter-widgets/controls"
          }
        },
        "fe6799fc6c3446168ce4996414f9efb9": {
          "model_module": "@jupyter-widgets/base",
          "model_name": "LayoutModel",
          "model_module_version": "1.2.0",
          "state": {
            "_view_name": "LayoutView",
            "grid_template_rows": null,
            "right": null,
            "justify_content": null,
            "_view_module": "@jupyter-widgets/base",
            "overflow": null,
            "_model_module_version": "1.2.0",
            "_view_count": null,
            "flex_flow": null,
            "width": null,
            "min_width": null,
            "border": null,
            "align_items": null,
            "bottom": null,
            "_model_module": "@jupyter-widgets/base",
            "top": null,
            "grid_column": null,
            "overflow_y": null,
            "overflow_x": null,
            "grid_auto_flow": null,
            "grid_area": null,
            "grid_template_columns": null,
            "flex": null,
            "_model_name": "LayoutModel",
            "justify_items": null,
            "grid_row": null,
            "max_height": null,
            "align_content": null,
            "visibility": null,
            "align_self": null,
            "height": null,
            "min_height": null,
            "padding": null,
            "grid_auto_rows": null,
            "grid_gap": null,
            "max_width": null,
            "order": null,
            "_view_module_version": "1.2.0",
            "grid_template_areas": null,
            "object_position": null,
            "object_fit": null,
            "grid_auto_columns": null,
            "margin": null,
            "display": null,
            "left": null
          }
        },
        "0ae15b1daa87437e91f0ee73866ce31d": {
          "model_module": "@jupyter-widgets/controls",
          "model_name": "ProgressStyleModel",
          "model_module_version": "1.5.0",
          "state": {
            "_view_name": "StyleView",
            "_model_name": "ProgressStyleModel",
            "description_width": "",
            "_view_module": "@jupyter-widgets/base",
            "_model_module_version": "1.5.0",
            "_view_count": null,
            "_view_module_version": "1.2.0",
            "bar_color": null,
            "_model_module": "@jupyter-widgets/controls"
          }
        },
        "71d7a1663e19439ca0e1fad4e5e02379": {
          "model_module": "@jupyter-widgets/base",
          "model_name": "LayoutModel",
          "model_module_version": "1.2.0",
          "state": {
            "_view_name": "LayoutView",
            "grid_template_rows": null,
            "right": null,
            "justify_content": null,
            "_view_module": "@jupyter-widgets/base",
            "overflow": null,
            "_model_module_version": "1.2.0",
            "_view_count": null,
            "flex_flow": null,
            "width": null,
            "min_width": null,
            "border": null,
            "align_items": null,
            "bottom": null,
            "_model_module": "@jupyter-widgets/base",
            "top": null,
            "grid_column": null,
            "overflow_y": null,
            "overflow_x": null,
            "grid_auto_flow": null,
            "grid_area": null,
            "grid_template_columns": null,
            "flex": null,
            "_model_name": "LayoutModel",
            "justify_items": null,
            "grid_row": null,
            "max_height": null,
            "align_content": null,
            "visibility": null,
            "align_self": null,
            "height": null,
            "min_height": null,
            "padding": null,
            "grid_auto_rows": null,
            "grid_gap": null,
            "max_width": null,
            "order": null,
            "_view_module_version": "1.2.0",
            "grid_template_areas": null,
            "object_position": null,
            "object_fit": null,
            "grid_auto_columns": null,
            "margin": null,
            "display": null,
            "left": null
          }
        },
        "03bcacc92977436ea773a24e14fb81cc": {
          "model_module": "@jupyter-widgets/controls",
          "model_name": "DescriptionStyleModel",
          "model_module_version": "1.5.0",
          "state": {
            "_view_name": "StyleView",
            "_model_name": "DescriptionStyleModel",
            "description_width": "",
            "_view_module": "@jupyter-widgets/base",
            "_model_module_version": "1.5.0",
            "_view_count": null,
            "_view_module_version": "1.2.0",
            "_model_module": "@jupyter-widgets/controls"
          }
        },
        "90c87fae349642a69cb5902174f47770": {
          "model_module": "@jupyter-widgets/base",
          "model_name": "LayoutModel",
          "model_module_version": "1.2.0",
          "state": {
            "_view_name": "LayoutView",
            "grid_template_rows": null,
            "right": null,
            "justify_content": null,
            "_view_module": "@jupyter-widgets/base",
            "overflow": null,
            "_model_module_version": "1.2.0",
            "_view_count": null,
            "flex_flow": null,
            "width": null,
            "min_width": null,
            "border": null,
            "align_items": null,
            "bottom": null,
            "_model_module": "@jupyter-widgets/base",
            "top": null,
            "grid_column": null,
            "overflow_y": null,
            "overflow_x": null,
            "grid_auto_flow": null,
            "grid_area": null,
            "grid_template_columns": null,
            "flex": null,
            "_model_name": "LayoutModel",
            "justify_items": null,
            "grid_row": null,
            "max_height": null,
            "align_content": null,
            "visibility": null,
            "align_self": null,
            "height": null,
            "min_height": null,
            "padding": null,
            "grid_auto_rows": null,
            "grid_gap": null,
            "max_width": null,
            "order": null,
            "_view_module_version": "1.2.0",
            "grid_template_areas": null,
            "object_position": null,
            "object_fit": null,
            "grid_auto_columns": null,
            "margin": null,
            "display": null,
            "left": null
          }
        }
      }
    }
  },
  "cells": [
    {
      "cell_type": "markdown",
      "metadata": {
        "id": "d94eVrcCfI1J"
      },
      "source": [
        "- Listado de 200 palababras mas frecuentes en el dataset (spearadas en preguntas y respuestas)\n",
        "- Feature engineering, revisar el dataset para encontrar features y sumar embedings\n"
      ]
    },
    {
      "cell_type": "markdown",
      "metadata": {
        "id": "Y_7o871jURjW"
      },
      "source": [
        "# Reddit Q&A analysis using Transformers, Embeddings, and Feature Engineering\n",
        "\n",
        "dataset: https://www.kaggle.com/rodmcn/askreddit-questions-and-answers?select=reddit_answers.csv"
      ]
    },
    {
      "cell_type": "code",
      "metadata": {
        "id": "WhTjVW5IeqCj",
        "tags": []
      },
      "source": [
        "!pip install -U spacy==3.1.2\n",
        "!python -m spacy download en_core_web_sm\n",
        "!pip install fasttext\n",
        "!pip install sentence_transformers"
      ],
      "execution_count": null,
      "outputs": []
    },
    {
      "cell_type": "markdown",
      "metadata": {
        "id": "H6_OzGdIQFHN"
      },
      "source": [
        ""
      ]
    },
    {
      "cell_type": "code",
      "metadata": {
        "colab": {
          "base_uri": "https://localhost:8080/"
        },
        "id": "_whAl2_zwKpH",
        "outputId": "026f17d6-a91e-413b-e048-8604e3ec4ad4"
      },
      "source": [
        "import json\n",
        "import pandas as pd\n",
        "import numpy as np\n",
        "import random\n",
        "import spacy\n",
        "import re\n",
        "from tqdm.notebook import tqdm\n",
        "from google.colab import drive\n",
        "\n",
        "drive.mount('/content/drive')\n",
        "pd.set_option('display.max_colwidth', None)"
      ],
      "execution_count": 44,
      "outputs": [
        {
          "output_type": "stream",
          "name": "stdout",
          "text": [
            "Drive already mounted at /content/drive; to attempt to forcibly remount, call drive.mount(\"/content/drive\", force_remount=True).\n"
          ]
        }
      ]
    },
    {
      "cell_type": "code",
      "metadata": {
        "id": "LIEHaeRAfPrm"
      },
      "source": [
        "DATASET_PATH = \"/content/drive/MyDrive/facu/textmining/\"\n",
        "\n",
        "QUESTIONS_DATASET_FILE = \"reddit_questions.csv\"\n",
        "ANSWERS_DATASET_FILE = \"reddit_answers.csv\"\n",
        "\n",
        "MAX_ROWS = 10000\n",
        "NUMBER_OF_ANSWERS = 5566660\n",
        "QUESTIONS_VOTES_THRESHOLD = 50"
      ],
      "execution_count": 45,
      "outputs": []
    },
    {
      "cell_type": "code",
      "metadata": {
        "id": "0_y7yN3RSkQH",
        "tags": []
      },
      "source": [
        "df_questions = pd.read_csv(DATASET_PATH + QUESTIONS_DATASET_FILE, error_bad_lines=False, sep=\";\")\n",
        "df_questions.set_index(\"id\", inplace = True, drop=False)\n",
        "\n",
        "skip_lines = sorted(random.sample(range(1, NUMBER_OF_ANSWERS + 1), NUMBER_OF_ANSWERS - MAX_ROWS))\n",
        "df_answers = pd.read_csv(DATASET_PATH + ANSWERS_DATASET_FILE, error_bad_lines=False, skiprows=skip_lines, sep=\";\")\n",
        "df_answers.votes = df_answers.votes.astype(\"Int64\")\n",
        "df_answers = df_answers[df_answers[\"votes\"] >= QUESTIONS_VOTES_THRESHOLD]"
      ],
      "execution_count": 46,
      "outputs": []
    },
    {
      "cell_type": "markdown",
      "metadata": {
        "id": "wkEHtO86HdYB"
      },
      "source": [
        "# Explore DataSet"
      ]
    },
    {
      "cell_type": "code",
      "metadata": {
        "colab": {
          "base_uri": "https://localhost:8080/",
          "height": 232
        },
        "id": "3bsQan3kK9gq",
        "outputId": "58a3d21b-99ea-4e80-b340-6753b6b74406"
      },
      "source": [
        "df_questions.head()"
      ],
      "execution_count": 68,
      "outputs": [
        {
          "output_type": "execute_result",
          "data": {
            "text/html": [
              "<div>\n",
              "<style scoped>\n",
              "    .dataframe tbody tr th:only-of-type {\n",
              "        vertical-align: middle;\n",
              "    }\n",
              "\n",
              "    .dataframe tbody tr th {\n",
              "        vertical-align: top;\n",
              "    }\n",
              "\n",
              "    .dataframe thead th {\n",
              "        text-align: right;\n",
              "    }\n",
              "</style>\n",
              "<table border=\"1\" class=\"dataframe\">\n",
              "  <thead>\n",
              "    <tr style=\"text-align: right;\">\n",
              "      <th></th>\n",
              "      <th>id</th>\n",
              "      <th>text</th>\n",
              "      <th>votes</th>\n",
              "      <th>timestamp</th>\n",
              "      <th>datetime</th>\n",
              "    </tr>\n",
              "    <tr>\n",
              "      <th>id</th>\n",
              "      <th></th>\n",
              "      <th></th>\n",
              "      <th></th>\n",
              "      <th></th>\n",
              "      <th></th>\n",
              "    </tr>\n",
              "  </thead>\n",
              "  <tbody>\n",
              "    <tr>\n",
              "      <th>izucgz</th>\n",
              "      <td>izucgz</td>\n",
              "      <td>What's the purpose of life?</td>\n",
              "      <td>8</td>\n",
              "      <td>1.601076e+09</td>\n",
              "      <td>Fri Sep 25 23:13:31 2020 UTC</td>\n",
              "    </tr>\n",
              "    <tr>\n",
              "      <th>9c784/</th>\n",
              "      <td>9c784/</td>\n",
              "      <td>I've tried to quit smoking, this is my seventh attempt in the last year. I went 2 weeks, started smoking again. What are your stories Reddit on quitting and not being able to quit?</td>\n",
              "      <td>11</td>\n",
              "      <td>1.250712e+09</td>\n",
              "      <td>Wed Aug 19 19:58:54 2009 UTC</td>\n",
              "    </tr>\n",
              "    <tr>\n",
              "      <th>iylxwl</th>\n",
              "      <td>iylxwl</td>\n",
              "      <td>For those who have a slave master last name, will you change it? And if so, why?</td>\n",
              "      <td>0</td>\n",
              "      <td>1.600904e+09</td>\n",
              "      <td>Wed Sep 23 23:35:15 2020 UTC</td>\n",
              "    </tr>\n",
              "    <tr>\n",
              "      <th>gmmlj4</th>\n",
              "      <td>gmmlj4</td>\n",
              "      <td>How do you think humans will become extinct?</td>\n",
              "      <td>21998</td>\n",
              "      <td>1.589887e+09</td>\n",
              "      <td>Tue May 19 11:18:05 2020 UTC</td>\n",
              "    </tr>\n",
              "    <tr>\n",
              "      <th>ishb7v</th>\n",
              "      <td>ishb7v</td>\n",
              "      <td>What is a movie So Disturbing you couldn't be paid to see again?</td>\n",
              "      <td>13</td>\n",
              "      <td>1.600074e+09</td>\n",
              "      <td>Mon Sep 14 08:53:53 2020 UTC</td>\n",
              "    </tr>\n",
              "  </tbody>\n",
              "</table>\n",
              "</div>"
            ],
            "text/plain": [
              "            id  ...                      datetime\n",
              "id              ...                              \n",
              "izucgz  izucgz  ...  Fri Sep 25 23:13:31 2020 UTC\n",
              "9c784/  9c784/  ...  Wed Aug 19 19:58:54 2009 UTC\n",
              "iylxwl  iylxwl  ...  Wed Sep 23 23:35:15 2020 UTC\n",
              "gmmlj4  gmmlj4  ...  Tue May 19 11:18:05 2020 UTC\n",
              "ishb7v  ishb7v  ...  Mon Sep 14 08:53:53 2020 UTC\n",
              "\n",
              "[5 rows x 5 columns]"
            ]
          },
          "metadata": {},
          "execution_count": 68
        }
      ]
    },
    {
      "cell_type": "code",
      "metadata": {
        "colab": {
          "base_uri": "https://localhost:8080/",
          "height": 235
        },
        "id": "ZO5ywn8RURjZ",
        "outputId": "b4d783b2-4aaf-4397-fc5e-ef5c5d1b34f2"
      },
      "source": [
        "df_answers.sample(5)"
      ],
      "execution_count": 64,
      "outputs": [
        {
          "output_type": "execute_result",
          "data": {
            "text/html": [
              "<div>\n",
              "<style scoped>\n",
              "    .dataframe tbody tr th:only-of-type {\n",
              "        vertical-align: middle;\n",
              "    }\n",
              "\n",
              "    .dataframe tbody tr th {\n",
              "        vertical-align: top;\n",
              "    }\n",
              "\n",
              "    .dataframe thead th {\n",
              "        text-align: right;\n",
              "    }\n",
              "</style>\n",
              "<table border=\"1\" class=\"dataframe\">\n",
              "  <thead>\n",
              "    <tr style=\"text-align: right;\">\n",
              "      <th></th>\n",
              "      <th>id</th>\n",
              "      <th>q_id</th>\n",
              "      <th>text</th>\n",
              "      <th>votes</th>\n",
              "    </tr>\n",
              "  </thead>\n",
              "  <tbody>\n",
              "    <tr>\n",
              "      <th>8909</th>\n",
              "      <td>5117374</td>\n",
              "      <td>dkx72k</td>\n",
              "      <td>There are 10 kinds of people, those who understand binary, and those who don't.</td>\n",
              "      <td>875</td>\n",
              "    </tr>\n",
              "    <tr>\n",
              "      <th>8892</th>\n",
              "      <td>5108351</td>\n",
              "      <td>2yics0</td>\n",
              "      <td>\"\"I...die?...\" The Iron Giant. Never have I cried over a robot :( \"</td>\n",
              "      <td>276</td>\n",
              "    </tr>\n",
              "    <tr>\n",
              "      <th>1857</th>\n",
              "      <td>1052200</td>\n",
              "      <td>84cnia</td>\n",
              "      <td>Microwaves are now illegal in restaurants.</td>\n",
              "      <td>654</td>\n",
              "    </tr>\n",
              "    <tr>\n",
              "      <th>9131</th>\n",
              "      <td>5240783</td>\n",
              "      <td>54lfsc</td>\n",
              "      <td>This guy talking to turkeys. I don't know why, but it gets me every damn time.</td>\n",
              "      <td>1768</td>\n",
              "    </tr>\n",
              "    <tr>\n",
              "      <th>1965</th>\n",
              "      <td>1117519</td>\n",
              "      <td>fcdi6a</td>\n",
              "      <td>I was told about a kid in my nieces nursing program. Kid had a smart watch where he could access data from his phone. Prior to the tests he'd put all of the data he needed where he could scroll through it on his watch.  During the final the Teacher asked for all phones to be turned off or you'll get a failing grade. Someone was texting the kid during the exam, the watch the started making noises and the teacher realized he has been cheating all semester long.  No idea what happened to the kid. This must have been when the gen1 Apple Watches &amp; Samsung devices came out.</td>\n",
              "      <td>873</td>\n",
              "    </tr>\n",
              "  </tbody>\n",
              "</table>\n",
              "</div>"
            ],
            "text/plain": [
              "           id  ... votes\n",
              "8909  5117374  ...   875\n",
              "8892  5108351  ...   276\n",
              "1857  1052200  ...   654\n",
              "9131  5240783  ...  1768\n",
              "1965  1117519  ...   873\n",
              "\n",
              "[5 rows x 4 columns]"
            ]
          },
          "metadata": {},
          "execution_count": 64
        }
      ]
    },
    {
      "cell_type": "code",
      "metadata": {
        "colab": {
          "base_uri": "https://localhost:8080/",
          "height": 35
        },
        "id": "mAOan29NpKsn",
        "outputId": "60d8a64a-e1ac-4bcf-eb89-6cc1a85ae559"
      },
      "source": [
        "df_questions.loc[\"dkx72k\"][\"text\"]"
      ],
      "execution_count": 71,
      "outputs": [
        {
          "output_type": "execute_result",
          "data": {
            "application/vnd.google.colaboratory.intrinsic+json": {
              "type": "string"
            },
            "text/plain": [
              "'What\\'s your version of \"\"there are two kinds of people..\"\"?'"
            ]
          },
          "metadata": {},
          "execution_count": 71
        }
      ]
    },
    {
      "cell_type": "markdown",
      "metadata": {
        "id": "vx5vhVTOURja"
      },
      "source": [
        "# Importing Spacy"
      ]
    },
    {
      "cell_type": "code",
      "metadata": {
        "id": "nU1Lq92VURja"
      },
      "source": [
        "nlp = spacy.load(\"en_core_web_sm\")"
      ],
      "execution_count": 49,
      "outputs": []
    },
    {
      "cell_type": "code",
      "metadata": {
        "colab": {
          "base_uri": "https://localhost:8080/"
        },
        "id": "isVcxi_SURjb",
        "outputId": "e5477ad1-57a2-4c1f-b9fa-f35676a89736"
      },
      "source": [
        "doc = nlp(\"What's the purpose of life?\")\n",
        "print([token.lemma_ for token in doc]) \n",
        "print([token.pos_ for token in doc]) "
      ],
      "execution_count": 50,
      "outputs": [
        {
          "output_type": "stream",
          "name": "stdout",
          "text": [
            "['what', 'be', 'the', 'purpose', 'of', 'life', '?']\n",
            "['PRON', 'AUX', 'DET', 'NOUN', 'ADP', 'NOUN', 'PUNCT']\n"
          ]
        }
      ]
    },
    {
      "cell_type": "markdown",
      "metadata": {
        "id": "_99P9jjjURjb"
      },
      "source": [
        "# Importing Transformers model"
      ]
    },
    {
      "cell_type": "code",
      "metadata": {
        "id": "zIr6isyXURjb"
      },
      "source": [
        "from sentence_transformers import SentenceTransformer, util\n",
        "# model = SentenceTransformer('sentence-transformers/paraphrase-xlm-r-multilingual-v1')\n",
        "model = SentenceTransformer('all-mpnet-base-v2')\n"
      ],
      "execution_count": 51,
      "outputs": []
    },
    {
      "cell_type": "code",
      "metadata": {
        "colab": {
          "base_uri": "https://localhost:8080/"
        },
        "id": "z9Cgd8wqURjb",
        "outputId": "2a48e98c-71b1-4316-f725-5f69906e3274"
      },
      "source": [
        "#Compute embedding for both\n",
        "question_embedding = model.encode(\"What is your favorite icecream?\", convert_to_tensor=True)\n",
        "answer_embedding = model.encode(\"My favorite icecream is Chocolate and Vainilla\", convert_to_tensor=True)\n",
        "\n",
        "#Compute cosine-similarits\n",
        "cosine_scores = util.pytorch_cos_sim(question_embedding, answer_embedding)\n",
        "print(cosine_scores)"
      ],
      "execution_count": 52,
      "outputs": [
        {
          "output_type": "stream",
          "name": "stdout",
          "text": [
            "tensor([[0.8226]])\n"
          ]
        }
      ]
    },
    {
      "cell_type": "markdown",
      "metadata": {
        "id": "GtQN_xgxURjc"
      },
      "source": [
        "# Feature engineeering"
      ]
    },
    {
      "cell_type": "code",
      "metadata": {
        "id": "_6CHBE1KURjc"
      },
      "source": [
        "def lemmatize(doc):\n",
        "    doc_list = [token.lemma_.lower() for token in doc if (token.is_alpha or token.pos_ == \"NUM\") and not token.is_stop]\n",
        "    text_lemmatized = \" \".join(doc_list)\n",
        "    return text_lemmatized\n",
        "\n",
        "def has_num(doc):\n",
        "    return any([token.pos_ == \"NUM\" for token in doc])\n",
        "\n",
        "def calculate_similarity(question, answer):\n",
        "    try:\n",
        "        question_embedding = model.encode(question, convert_to_tensor=True)\n",
        "        answer_embedding = model.encode(answer, convert_to_tensor=True)\n",
        "        return util.pytorch_cos_sim(question_embedding, answer_embedding).item()\n",
        "    except:\n",
        "        return 0\n",
        "\n",
        "def build_features(question, answer):\n",
        "    question_doc = nlp(question)\n",
        "    answer_doc = nlp(answer)\n",
        "    question_lemmatized = [token.lemma_.lower() for token in question_doc if not token.is_stop]\n",
        "    answer_lemmatized = [token.lemma_.lower() for token in answer_doc if not token.is_stop]\n",
        "    \n",
        "    # Features\n",
        "    lemmatized_words_in_common = len(set(question_lemmatized).intersection(set(answer_lemmatized)))\n",
        "    \n",
        "    question_lower_case = question.lower()\n",
        "    is_quantity_question = (\"how many\" in question_lower_case or \"how much\" in question_lower_case) and has_num(answer_doc)\n",
        "    \n",
        "    qa_similarity = calculate_similarity(question, answer)\n",
        "\n",
        "    qa_lemma_similarity = calculate_similarity(\" \".join(question_lemmatized), \" \".join(answer_lemmatized))\n",
        "    \n",
        "    return [\n",
        "        question,\n",
        "        answer,\n",
        "        lemmatized_words_in_common,\n",
        "        is_quantity_question,\n",
        "        qa_similarity,\n",
        "        qa_lemma_similarity\n",
        "    ]\n"
      ],
      "execution_count": 53,
      "outputs": []
    },
    {
      "cell_type": "markdown",
      "metadata": {
        "tags": [],
        "id": "QUbAFz0FURjd"
      },
      "source": [
        "## Build correct answers"
      ]
    },
    {
      "cell_type": "code",
      "metadata": {
        "colab": {
          "base_uri": "https://localhost:8080/",
          "height": 48,
          "referenced_widgets": [
            "0518f9a4ad584c568c8c0e582bc6714c",
            "3ed362226b6c48589ce166f699e013f2",
            "3a3d8be9ff2f4fb48a4a2051e2b72140",
            "8457302d479145aaa6b99f6072b4fcdc",
            "e4b0231eaf7e4c1c893a03a8d01b8b10",
            "16a7cc1914724f6ea49f558f1ae53cb0",
            "fe6799fc6c3446168ce4996414f9efb9",
            "0ae15b1daa87437e91f0ee73866ce31d",
            "71d7a1663e19439ca0e1fad4e5e02379",
            "03bcacc92977436ea773a24e14fb81cc",
            "90c87fae349642a69cb5902174f47770"
          ]
        },
        "id": "MJTBnh1H2gt6",
        "outputId": "544390f9-c5c0-4a54-ec79-36dcae63c10d"
      },
      "source": [
        "questions_answers = []\n",
        "\n",
        "# Add positive answers\n",
        "set_indexs = set(df_questions.index)\n",
        "iter_answers = list(df_answers.iterrows())\n",
        "for _, answer in tqdm(iter_answers):\n",
        "    if answer.q_id not in set_indexs:\n",
        "        continue\n",
        "    question_row = df_questions.loc[answer.q_id]\n",
        "    question_text = question_row[\"text\"]\n",
        "    answer_text = answer[\"text\"]\n",
        "    questions_answers.append([*build_features(question_text, answer_text), True])"
      ],
      "execution_count": 54,
      "outputs": [
        {
          "output_type": "display_data",
          "data": {
            "application/vnd.jupyter.widget-view+json": {
              "model_id": "0518f9a4ad584c568c8c0e582bc6714c",
              "version_minor": 0,
              "version_major": 2
            },
            "text/plain": [
              "  0%|          | 0/1545 [00:00<?, ?it/s]"
            ]
          },
          "metadata": {}
        }
      ]
    },
    {
      "cell_type": "markdown",
      "metadata": {
        "id": "SFATJS2xURjd"
      },
      "source": [
        "## Build incorrect answers"
      ]
    },
    {
      "cell_type": "code",
      "metadata": {
        "id": "gFRr2sh7URje"
      },
      "source": [
        "# Add negatives answers\n",
        "negatives_questions_added = 0\n",
        "while negatives_questions_added < len(iter_answers):\n",
        "    random_question = df_questions.sample(1).iloc[0]\n",
        "    random_answer = df_answers.sample(1).iloc[0]\n",
        "    if random_answer.q_id == random_question.id:\n",
        "        continue\n",
        "    question_text = random_question[\"text\"]\n",
        "    answer_text = random_answer[\"text\"]\n",
        "    questions_answers.append([*build_features(question_text, answer_text), False])\n",
        "    negatives_questions_added += 1\n"
      ],
      "execution_count": 55,
      "outputs": []
    },
    {
      "cell_type": "markdown",
      "metadata": {
        "id": "Xu9C6HRkURje"
      },
      "source": [
        "## Build DataSet"
      ]
    },
    {
      "cell_type": "code",
      "metadata": {
        "id": "YYUrYD-pURje"
      },
      "source": [
        "columns = [\n",
        "    \"question_text\", \n",
        "    \"answer_text\",\n",
        "    \"lemmatized_words_in_common\", \n",
        "    \"is_quantity_question\",\n",
        "    \"qa_similarity\",\n",
        "    \"qa_lemma_similarity\",\n",
        "    \"is_answer\"\n",
        "]\n",
        "\n",
        "df = pd.DataFrame(questions_answers, columns=columns)\n"
      ],
      "execution_count": 79,
      "outputs": []
    },
    {
      "cell_type": "code",
      "metadata": {
        "colab": {
          "base_uri": "https://localhost:8080/",
          "height": 174
        },
        "id": "RilUHhhVzTbH",
        "outputId": "ffa0d5f5-1d12-40fe-f241-0be60e189cde"
      },
      "source": [
        "df[~df.is_answer].sample(3)"
      ],
      "execution_count": 98,
      "outputs": [
        {
          "output_type": "execute_result",
          "data": {
            "text/html": [
              "<div>\n",
              "<style scoped>\n",
              "    .dataframe tbody tr th:only-of-type {\n",
              "        vertical-align: middle;\n",
              "    }\n",
              "\n",
              "    .dataframe tbody tr th {\n",
              "        vertical-align: top;\n",
              "    }\n",
              "\n",
              "    .dataframe thead th {\n",
              "        text-align: right;\n",
              "    }\n",
              "</style>\n",
              "<table border=\"1\" class=\"dataframe\">\n",
              "  <thead>\n",
              "    <tr style=\"text-align: right;\">\n",
              "      <th></th>\n",
              "      <th>question_text</th>\n",
              "      <th>answer_text</th>\n",
              "      <th>lemmatized_words_in_common</th>\n",
              "      <th>is_quantity_question</th>\n",
              "      <th>qa_similarity</th>\n",
              "      <th>qa_lemma_similarity</th>\n",
              "      <th>is_answer</th>\n",
              "    </tr>\n",
              "  </thead>\n",
              "  <tbody>\n",
              "    <tr>\n",
              "      <th>1887</th>\n",
              "      <td>What's a video you've saved on YouTube because its too dam good?</td>\n",
              "      <td>In Vino Veritas. One of very few i know...</td>\n",
              "      <td>0</td>\n",
              "      <td>False</td>\n",
              "      <td>0.166997</td>\n",
              "      <td>0.061327</td>\n",
              "      <td>False</td>\n",
              "    </tr>\n",
              "    <tr>\n",
              "      <th>2820</th>\n",
              "      <td>What was your initial reaction to puberty?</td>\n",
              "      <td>American here, no one fucking eats spam except for Hawaiians for the most part.</td>\n",
              "      <td>0</td>\n",
              "      <td>False</td>\n",
              "      <td>-0.051318</td>\n",
              "      <td>-0.024875</td>\n",
              "      <td>False</td>\n",
              "    </tr>\n",
              "    <tr>\n",
              "      <th>1727</th>\n",
              "      <td>What was the most f**ked up song you ever heard?</td>\n",
              "      <td>The Cincinnati Red Stockings' 130 game winning streak.  Because there's more than one professional baseball team now.</td>\n",
              "      <td>0</td>\n",
              "      <td>False</td>\n",
              "      <td>0.125516</td>\n",
              "      <td>-0.012588</td>\n",
              "      <td>False</td>\n",
              "    </tr>\n",
              "  </tbody>\n",
              "</table>\n",
              "</div>"
            ],
            "text/plain": [
              "                                                         question_text  ... is_answer\n",
              "1887  What's a video you've saved on YouTube because its too dam good?  ...     False\n",
              "2820                        What was your initial reaction to puberty?  ...     False\n",
              "1727                  What was the most f**ked up song you ever heard?  ...     False\n",
              "\n",
              "[3 rows x 7 columns]"
            ]
          },
          "metadata": {},
          "execution_count": 98
        }
      ]
    },
    {
      "cell_type": "code",
      "metadata": {
        "colab": {
          "base_uri": "https://localhost:8080/",
          "height": 257
        },
        "id": "5eKYxXcYzJ2C",
        "outputId": "01b0839f-8c66-4318-f1fc-cf186a37f4f0"
      },
      "source": [
        "df[df.is_answer].sample(3)"
      ],
      "execution_count": 95,
      "outputs": [
        {
          "output_type": "execute_result",
          "data": {
            "text/html": [
              "<div>\n",
              "<style scoped>\n",
              "    .dataframe tbody tr th:only-of-type {\n",
              "        vertical-align: middle;\n",
              "    }\n",
              "\n",
              "    .dataframe tbody tr th {\n",
              "        vertical-align: top;\n",
              "    }\n",
              "\n",
              "    .dataframe thead th {\n",
              "        text-align: right;\n",
              "    }\n",
              "</style>\n",
              "<table border=\"1\" class=\"dataframe\">\n",
              "  <thead>\n",
              "    <tr style=\"text-align: right;\">\n",
              "      <th></th>\n",
              "      <th>question_text</th>\n",
              "      <th>answer_text</th>\n",
              "      <th>lemmatized_words_in_common</th>\n",
              "      <th>is_quantity_question</th>\n",
              "      <th>qa_similarity</th>\n",
              "      <th>qa_lemma_similarity</th>\n",
              "      <th>is_answer</th>\n",
              "    </tr>\n",
              "  </thead>\n",
              "  <tbody>\n",
              "    <tr>\n",
              "      <th>426</th>\n",
              "      <td>As a person that would consider themselves technologically inclined. What is your biggest \"\"Wow, I'm an idiot\"\" Moment?</td>\n",
              "      <td>\"When I first got a wifi card for my laptop I said \"Wow! I can listen to the radio without any wires now!\" to my gf, who laughed at me. \"</td>\n",
              "      <td>4</td>\n",
              "      <td>False</td>\n",
              "      <td>0.457249</td>\n",
              "      <td>0.256770</td>\n",
              "      <td>True</td>\n",
              "    </tr>\n",
              "    <tr>\n",
              "      <th>1056</th>\n",
              "      <td>Money is no object. How do you (legally) ruin your worst enemy's life?</td>\n",
              "      <td>Buy his job and fire him. Continuously financially bankrupt him, his extended family and closest friends for years, until they all are forced to live in trailer parks or the ghetto. Then give him a million dollars and let all of his friends and family know he has it. They'll tear him apart to get ahead.</td>\n",
              "      <td>1</td>\n",
              "      <td>False</td>\n",
              "      <td>0.578599</td>\n",
              "      <td>0.297708</td>\n",
              "      <td>True</td>\n",
              "    </tr>\n",
              "    <tr>\n",
              "      <th>482</th>\n",
              "      <td>What myths about health/body are people the most stubborn about holding on too, despite the lack of any evidence to support them?</td>\n",
              "      <td>Death by fan. I want the wind on my face damn it.</td>\n",
              "      <td>0</td>\n",
              "      <td>False</td>\n",
              "      <td>0.138885</td>\n",
              "      <td>0.060882</td>\n",
              "      <td>True</td>\n",
              "    </tr>\n",
              "  </tbody>\n",
              "</table>\n",
              "</div>"
            ],
            "text/plain": [
              "                                                                                                                          question_text  ... is_answer\n",
              "426             As a person that would consider themselves technologically inclined. What is your biggest \"\"Wow, I'm an idiot\"\" Moment?  ...      True\n",
              "1056                                                             Money is no object. How do you (legally) ruin your worst enemy's life?  ...      True\n",
              "482   What myths about health/body are people the most stubborn about holding on too, despite the lack of any evidence to support them?  ...      True\n",
              "\n",
              "[3 rows x 7 columns]"
            ]
          },
          "metadata": {},
          "execution_count": 95
        }
      ]
    },
    {
      "cell_type": "markdown",
      "metadata": {
        "id": "ndfvMutoURje"
      },
      "source": [
        "# Selecting Feature"
      ]
    },
    {
      "cell_type": "code",
      "metadata": {
        "id": "3rI46AZHURjf"
      },
      "source": [
        "#split dataset in features and target variable\n",
        "\n",
        "feature_cols = [\n",
        "    \"lemmatized_words_in_common\", \n",
        "    \"is_quantity_question\",\n",
        "    \"qa_similarity\",\n",
        "    \"qa_lemma_similarity\",\n",
        "]\n",
        "\n",
        "X = df[feature_cols]    # Features\n",
        "y = df.is_answer        # Target variable"
      ],
      "execution_count": 57,
      "outputs": []
    },
    {
      "cell_type": "markdown",
      "metadata": {
        "id": "_Y3eQgHAURjf"
      },
      "source": [
        "# Splitting Data"
      ]
    },
    {
      "cell_type": "code",
      "metadata": {
        "id": "ks_MTLcFURjf"
      },
      "source": [
        "# split X and y into training and testing sets\n",
        "from sklearn.model_selection import train_test_split\n",
        "\n",
        "X_train, X_test, y_train, y_test=train_test_split(X, y, test_size=0.25, random_state=0)"
      ],
      "execution_count": 78,
      "outputs": []
    },
    {
      "cell_type": "markdown",
      "metadata": {
        "id": "_j35xNmHURjf"
      },
      "source": [
        "# Model Development and Prediction"
      ]
    },
    {
      "cell_type": "code",
      "metadata": {
        "id": "ybRT0dAoURjf"
      },
      "source": [
        "from sklearn.linear_model import LogisticRegression\n",
        "\n",
        "logreg = LogisticRegression()\n",
        "logreg.fit(X_train,y_train)\n",
        "\n",
        "y_pred = logreg.predict(X_test)"
      ],
      "execution_count": 59,
      "outputs": []
    },
    {
      "cell_type": "markdown",
      "metadata": {
        "id": "f61K7KkEURjf"
      },
      "source": [
        "## Metrics"
      ]
    },
    {
      "cell_type": "code",
      "metadata": {
        "colab": {
          "base_uri": "https://localhost:8080/"
        },
        "id": "mXj4ggZTURjg",
        "outputId": "3d4ff0fd-1eea-4165-c48b-d04c8b6a6018"
      },
      "source": [
        "# import the metrics class\n",
        "from sklearn import metrics\n",
        "cnf_matrix = metrics.confusion_matrix(y_test, y_pred)\n",
        "cnf_matrix"
      ],
      "execution_count": 60,
      "outputs": [
        {
          "output_type": "execute_result",
          "data": {
            "text/plain": [
              "array([[336,  32],\n",
              "       [ 63, 342]])"
            ]
          },
          "metadata": {},
          "execution_count": 60
        }
      ]
    },
    {
      "cell_type": "code",
      "metadata": {
        "colab": {
          "base_uri": "https://localhost:8080/",
          "height": 342
        },
        "id": "dqGmBRetURjg",
        "outputId": "a12e8603-3fc4-4656-c888-a5367db2164d"
      },
      "source": [
        "# import required modules\n",
        "import numpy as np\n",
        "import matplotlib.pyplot as plt\n",
        "import seaborn as sns\n",
        "%matplotlib inline\n",
        "\n",
        "class_names=[0,1] # name  of classes\n",
        "fig, ax = plt.subplots()\n",
        "tick_marks = np.arange(len(class_names))\n",
        "plt.xticks(tick_marks, class_names)\n",
        "plt.yticks(tick_marks, class_names)\n",
        "# create heatmap\n",
        "sns.heatmap(pd.DataFrame(cnf_matrix), annot=True, cmap=\"YlGnBu\" ,fmt='g')\n",
        "ax.xaxis.set_label_position(\"top\")\n",
        "plt.tight_layout()\n",
        "plt.title('Confusion matrix', y=1.1)\n",
        "plt.ylabel('Actual label')\n",
        "plt.xlabel('Predicted label')\n"
      ],
      "execution_count": 77,
      "outputs": [
        {
          "output_type": "execute_result",
          "data": {
            "text/plain": [
              "Text(0.5, 257.44, 'Predicted label')"
            ]
          },
          "metadata": {},
          "execution_count": 77
        },
        {
          "output_type": "display_data",
          "data": {
            "image/png": "[encoded data removed]",
            "text/plain": [
              "<Figure size 432x288 with 2 Axes>"
            ]
          },
          "metadata": {
            "needs_background": "light"
          }
        }
      ]
    },
    {
      "cell_type": "code",
      "metadata": {
        "colab": {
          "base_uri": "https://localhost:8080/"
        },
        "id": "E-RAfqJKURjg",
        "outputId": "10534113-7871-45d6-be73-2a4c390a31a1"
      },
      "source": [
        "print(f\"Accuracy: {metrics.accuracy_score(y_test, y_pred)}\")\n",
        "print(f\"Precision: {metrics.precision_score(y_test, y_pred)}\")\n",
        "print(f\"Recall: {metrics.recall_score(y_test, y_pred)}\")"
      ],
      "execution_count": 75,
      "outputs": [
        {
          "output_type": "stream",
          "name": "stdout",
          "text": [
            "Accuracy: 0.8771021992238034\n",
            "Precision: 0.9144385026737968\n",
            "Recall: 0.8444444444444444\n"
          ]
        }
      ]
    }
  ]
}